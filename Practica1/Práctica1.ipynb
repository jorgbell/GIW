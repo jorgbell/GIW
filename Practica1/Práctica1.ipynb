{
 "cells": [
  {
   "cell_type": "markdown",
   "metadata": {},
   "source": [
    "### Práctica de Introducción al lenguaje Python"
   ]
  },
  {
   "cell_type": "markdown",
   "metadata": {},
   "source": [
    "#### Ejercicio 1[4 puntos]\n",
    "Un autómata finito no determinista (AFND) es una modelo matemática que permite representar un tipo de lenguaje formal denominado lenguaje regular. Se caracterizan por un alfabeto, un conjunto finito de estados, un estado inicial, un conjunto de estados finales y una relación de transición. La relación de transición toma un estado  y  un símbolo,  y devuelve como resultado un conjunto de estados (estados a los que puede transitar) o el conjunto vacío (no transita a ningún estado). \n",
    "El automáta toma como entrada una cadena, y aplica la relación de transición sucesivamente sobre los elementos de la entrada. Una vez que ha consumido toda la cadena, se mira el estado al que se ha llegado, y si es un estado final entonces la entrada es aceptada. En un AFND se puede llegar a varios estados diferentes usando una misma cadena, sin embargo basta que exista un camino que permita llegar a un estado final para considerar que la entrada es aceptada. \n",
    "\n",
    "Se pide simular un AFND que tomará como entrada una cadena que representa la entrada, una lista de tuplas donde cada tupla representa un estado, un símbolo y un conjunto de estados  representando la telación de transición (aquellas transciones que llevan al conjunto vacio no se indicarán en la entrada), un conjunto de estado representando el conjunto de estados finales y un estado representando el estado inicial. El programa ante una entrada dirá si la cadena es aceptada o no lo es.\n",
    "\n",
    "Intentad estructurar el programa separando lo que es el programa que acepta la entrada y nos dice si es aceptado o no, y el programa que simula el AFD.\n",
    "\n",
    "Más información: https://es.wikipedia.org/wiki/Aut%C3%B3mata_finito_no_determinista\n",
    "\n",
    "No se pueden usar ninguna función o método que simule un AFD.\n",
    "\n",
    "\n",
    "Un autómata finito deteminista (AFD) es una modelo matemático que permite representar un tipo de lenguaje formal denominado lenguaje regular. Se caracterizan por un alfabeto A, un conjunto finito de estados Q, un estado inicial q0, un conjunto de estados finales F y una función de transición d. La función de transición toma un estado  y  un símbolo,  y devuelve como resultado un estado.\n",
    "El automáta toma como entrada una cadena, y aplica la función de transición sucesivamente sobre los elementos de la entrada. Una vez que ha consumido toda la cadena, se mira el estado al que se ha llegado, y si es un estado final entonces la entrada es aceptada. En caso contrario, la cadena no es aceptada.\n",
    "\n",
    "Por ejemplo:\n",
    "Sea M=(A={0,1},Q={p,q},qo={p},F={q},d) con la función de transición:\n",
    "\n",
    "|d|0|1|\n",
    "|-|-|-|\n",
    "|p|q|r|\n",
    "|q|r|q|\n",
    "|r|r|r|\n",
    "\n",
    "Si se quiere computar la cadena 0001 se haría así:\n",
    "d(p,0001)=d(q,001)=d(r,01)=d(r,1)=r\n",
    "Como r no es un estado final, entonces la cadena no es aceptada.\n",
    "\n",
    "Si en cambio se computa la cadena 0111 se tendría:\n",
    "d(p,0111)=d(q,111)=d(q,11)=d(q,1)=q\n",
    "Como q es un estado final, entonces la cadena es aceptada.\n",
    "\n",
    "Puedes encontrar más informacion en la siguiente dirección:\n",
    "https://en.wikipedia.org/wiki/Deterministic_finite_automaton\n",
    "\n",
    "Se va a programar un algoritmo para comparar la equivalencia de dos AFDs basado en el Teorema de Moore que se explica a continuación:\n",
    "* Se dice que dos estados son compatibles si ambos son finales o ninguno de los dos es final. En caso contrario, se dice que son incompatibles.\n",
    "\n",
    "* Considerar 2 AFDs M=(A,Q,qo,F,d) y M'=(A,Q',qo',F',d') entonces se construye un árbol de la siguiente manera:\n",
    "\n",
    "    * Paso 1:Considerar como raíz el par (q0,q0') formado por los estados iniciales de de los autómatas.\n",
    "    * Paso 2:Para cada par (q,q') del árbol y para cada a símbolo de A:\n",
    "             * Calcular qa=d(q,a) y qa'=d'(q',a) y formar el par (qa,qa') si no existía previamente en el árbol. Este para será hijo de (q,q')\n",
    "             * Si en alguna iteración aparece en el  árbol  un par (q,q') incompatible entonces se dice que los AFDs no son equivalentes y se para el proceso de construcción del árbol. En caso contrario ir al paso 2.\n",
    "             * Si no aparecen pares nuevos en el proceso de iteración, se para el proceso de construcción del árbol y se considera que los AFDs son equivalentes.\n",
    "             \n",
    "Por ejemplo considerar los autómatas:\n",
    "\n",
    "M=(A={a,b},Q={q0,q1,q2},qo={q0},F={q0,q2},d) con la función de transición:\n",
    "\n",
    "|d|a|b|\n",
    "|-|-|-|\n",
    "|q0|q2|q1|\n",
    "|q1|q1|q1|\n",
    "|q2|q0|q1|     \n",
    "             \n",
    "M'=(A={a,b},Q={r0,r1},qo'={r0},F={r0},d') con la función de transición:\n",
    "\n",
    "|d'|a|b|\n",
    "|-|-|-|\n",
    "|r0|r0|r1|\n",
    "|r1|r1|r1|\n",
    "\n",
    "Aplicamos el algoritmo:\n",
    "\n",
    "                                (q0,r0)\n",
    "                                \n",
    "                          a|                |b\n",
    "                          \n",
    "                      (q2,r0)                (q1,r1)\n",
    "                      \n",
    "                  a|          b|          a|          |b\n",
    "                  \n",
    "               (q0,r0)        (q1,r1)   (q1,r1)     (q1,r1)\n",
    "               \n",
    "\n",
    "Como no se ha encontrado un par incompatible y no se pueden generar más pares se concluye que los dos AFDs son equivalentes\n",
    "\n",
    "Puedes encontrar más informacion en la siguiente dirección:\n",
    "\n",
    "https://es.wikipedia.org/wiki/Teorema_de_Moore\n",
    "\n",
    "Se pide implementar el Teorema de Moore que tomará como entrada dos autómatas. Cada autómata se introduce proporcionando el usuario una lista de símbolos, una lista de estados, una lista de tripletas donde cada tripleta está formado por un estado, un símbolo y un estado representando la función de transición, una lista de estados representando el conjunto de estados finales y un estado representando el estado inicial. El programa mostrará por pantalla un mensaje que indica si sono equivalentes o no los AFDs dados.\n",
    "\n",
    "Estructurar el programa mediante funciones que relizan las diferentes acciones necesarias. No hace falta realizar una comprobación de errores, se supone que se introducirán datos coherentes y correctos.\n",
    "\n",
    "No se puede usar ninguna función o método de alguna libreria que simule un AFD."
   ]
  },
  {
   "cell_type": "markdown",
   "metadata": {},
   "source": [
    "#### Ejercicio 2[4 puntos]\n",
    "Considera el problema de encontrar la distancia más corta entre n ciudades separadas por caminos de longitud variable. La información de las distancias se puede almacenar de forma matricial. Por ejemplo considerar 3 ciudades, entonces podría representarse la información de la siguiente forma:\n",
    "\n",
    "| |1|2|3|\n",
    "|-|-|-|-|\n",
    "|1|0|1|1|\n",
    "|2|1|0|4|\n",
    "|3|1|4|0|\n",
    "              \n",
    "              \n",
    "Para resolver el problema, se puede usar el algoritmo de Floyd-Warshall:\n",
    "\n",
    "* Considerar la matriz inicial de las distancias. Sea A0\n",
    "\n",
    "* Calcular las matrices A1...An siendo n el número de ciudades tal que:\n",
    "\n",
    "          Ak(i,j)= min{ Ak-1(i,j), Ak-1(i,k-1)+Ak-1(k-1,j)}\n",
    "          \n",
    "  con k=1,...,n\n",
    "  \n",
    "* Las distancias mínimas son las entradas de la matriz An\n",
    "\n",
    "En el ejemplo, la matriz A3 es:\n",
    "\n",
    "| |1|2|3|\n",
    "|-|-|-|-|\n",
    "|1|0|1|1|\n",
    "|2|1|0|2|\n",
    "|3|1|2|0|\n",
    "\n",
    "Se pide realizar un programa donde dada una lista de listas que represente la matriz de distancias entre las ciudades, obtenga la matriz con las distancias mínimas como una lista de listas.\n",
    "\n",
    "Más información del algoritmo en:\n",
    "\n",
    "https://es.wikipedia.org/wiki/Algoritmo_de_Floyd-Warshall"
   ]
  },
  {
   "cell_type": "markdown",
   "metadata": {},
   "source": [
    "#### Ejercicio 3[2 puntos]\n",
    "Considerar una matriz cuadrada,se pide hacer un programa que muestre por pantalla el resultado de hacer los siguientes tipos de operaciones sobre la matriz:\n",
    "\n",
    "* Recorrido en espiral de la matriz\n",
    "\n",
    "* Rotación de 90 grados de la matriz en sentido de las agujas del reloj\n",
    "\n",
    "* Rotación de 90 grados de la matriz en sentido contrario de la agujas del reloj\n",
    "\n",
    "Por ejemplo, sea la matriz M dada por:\n",
    "\n",
    "                     1 0 2\n",
    "                     \n",
    "                     0 3 3\n",
    "                     \n",
    "                     1 2 2\n",
    "\n",
    "Entonces:\n",
    "\n",
    "* Recorrido en espiral:  1 0 2 3 2 2 1 0 3\n",
    "\n",
    "* Rotación de 90 grados sentido agujas del reloj: \n",
    "\n",
    "                     1 0 1\n",
    "                     \n",
    "                     2 3 0\n",
    "                     \n",
    "                     2 3 2\n",
    "                     \n",
    "                     \n",
    "* Rotación de 90 grados sentido contrario agujas del reloj: \n",
    "\n",
    "\n",
    "                     2 3 2\n",
    "                     \n",
    "                     0 3 2\n",
    "                     \n",
    "                     1 0 1\n",
    "\n",
    "\n",
    "La entrada del programa será una matriz cuadrada representada como una lista de listas.\n"
   ]
  },
  {
   "cell_type": "markdown",
   "metadata": {},
   "source": [
    "#### Normas de entrega\n",
    "\n",
    "* Fecha tope de entrega: 22/09/2022\n",
    "* La entrega se realizará subiendo al campus virtual un notebook de Jupyter con la solución. El archivo tendrá como nombre IntroPython_GrupoX donde X será el número de grupo correspondiente."
   ]
  },
  {
   "cell_type": "code",
   "execution_count": 1,
   "metadata": {},
   "outputs": [],
   "source": [
    "## Imports"
   ]
  },
  {
   "cell_type": "markdown",
   "metadata": {},
   "source": [
    "## Ejercicio1\n"
   ]
  },
  {
   "cell_type": "markdown",
   "metadata": {},
   "source": [
    "### Lectura de la entrada"
   ]
  },
  {
   "cell_type": "code",
   "execution_count": 39,
   "metadata": {},
   "outputs": [
    {
     "name": "stdout",
     "output_type": "stream",
     "text": [
      "2\n",
      "\n",
      "q0 ['q0', 'q2'] {'q0': ['q2', 'q1'], 'q1': ['q1', 'q1'], 'q2': ['q0', 'q1']}\n",
      "r0 ['r0'] {'r0': ['r0', 'r1'], 'r1': ['r1', 'r1']}\n"
     ]
    }
   ],
   "source": [
    "def leerDatos(ini, final, funcion, fichero):\n",
    "    ini = fichero.readline()[:-1]\n",
    "    final = fichero.readline()[:-1].split()\n",
    "    for x in range(int(fichero.readline())):\n",
    "        tripleta = fichero.readline()[:-1].split()\n",
    "        funcion[tripleta[0]] = tripleta[1:]\n",
    "    return ini, final\n",
    "\n",
    "ini1 = \"\"\n",
    "ini2 = \"\"\n",
    "final1 = []\n",
    "final2 = []\n",
    "funcion1 = dict() \n",
    "funcion2 = dict()\n",
    "\n",
    "fichero = open(\"entradaEj1.txt\")\n",
    "tamAlf = fichero.readline()\n",
    "ini1,final1 = leerDatos(ini1, final1, funcion1, fichero)\n",
    "ini2,final2 = leerDatos(ini2, final2, funcion2, fichero)\n",
    "\n",
    "print(tamAlf)\n",
    "print(ini1, final1, funcion1)\n",
    "print(ini2, final2, funcion2)\n",
    "\n",
    "fichero.close()"
   ]
  },
  {
   "cell_type": "markdown",
   "metadata": {},
   "source": [
    "### Resolución algoritmo Moore"
   ]
  },
  {
   "cell_type": "code",
   "execution_count": 40,
   "metadata": {
    "scrolled": true
   },
   "outputs": [
    {
     "name": "stdout",
     "output_type": "stream",
     "text": [
      "Equivalentes\n"
     ]
    }
   ],
   "source": [
    "## Se dice que dos estados son compatibles si ambos son finales o ninguno de los dos es final. \n",
    "# En caso contrario, se dice que son incompatibles.\n",
    "\n",
    "# Como no se ha encontrado un par incompatible y no se pueden generar más pares se concluye que los dos AFDs son equivalentes\n",
    "\n",
    "def generaTupla(funcion1, funcion2, estado1, estado2,i):\n",
    "    a = funcion1[estado1][i]\n",
    "    b = funcion2[estado2][i]\n",
    "    return a,b\n",
    "\n",
    "def esCompatible(final1,final2,estado1,estado2):\n",
    "    a = False\n",
    "    b = False\n",
    "    for x in final1:\n",
    "        if x == estado1:\n",
    "            a = True\n",
    "            break\n",
    "    for x in final2:\n",
    "        if x == estado2:\n",
    "            b = True\n",
    "            break\n",
    "    return ((a and b) or (not a and not b)) #true = compatible / false = incompatible\n",
    "\n",
    "def compruebaVisitados(e1, e2):\n",
    "    encontrado = False\n",
    "    i = 0\n",
    "    while not encontrado and i < len(visitados):\n",
    "        if(visitados[i][0] == e1 and visitados[i][1] == e2):\n",
    "            encontrado = True\n",
    "        i+=1\n",
    "    return encontrado\n",
    "    \n",
    "def algoritmoMoore(estado1, estado2):\n",
    "    global hayIncompatibles\n",
    "    if not hayIncompatibles:\n",
    "        for x in range(int(tamAlf)):\n",
    "            e1,e2 = generaTupla(funcion1,funcion2,estado1,estado2, x)\n",
    "            if not compruebaVisitados(e1, e2):\n",
    "                if esCompatible(final1,final2,e1,e2):\n",
    "                    visitados.append([e1, e2])\n",
    "                    algoritmoMoore(e1, e2)\n",
    "                else:\n",
    "                    hayIncompatibles = True\n",
    "        \n",
    "visitados = []\n",
    "hayIncompatibles = False\n",
    "algoritmoMoore(ini1, ini2)\n",
    "\n",
    "if hayIncompatibles:\n",
    "    print(\"NO equivalentes\")\n",
    "else:\n",
    "    print(\"Equivalentes\")\n",
    "    "
   ]
  },
  {
   "cell_type": "markdown",
   "metadata": {},
   "source": [
    "## Ejercicio 2"
   ]
  },
  {
   "cell_type": "markdown",
   "metadata": {},
   "source": [
    "### Lectura entrada"
   ]
  },
  {
   "cell_type": "code",
   "execution_count": 52,
   "metadata": {},
   "outputs": [
    {
     "name": "stdout",
     "output_type": "stream",
     "text": [
      "[[0, 1, 1], [1, 0, 4], [1, 4, 0]]\n"
     ]
    }
   ],
   "source": [
    "fichero2 = open(\"entradaEj2.txt\")\n",
    "tamCiudades = int(fichero2.readline())\n",
    "matriz = []\n",
    "for i in range(tamCiudades):\n",
    "    fila = list(map(int, fichero2.readline()[:-1].split()))\n",
    "    matriz.append(fila)\n",
    "print(matriz)\n",
    "fichero2.close()"
   ]
  },
  {
   "cell_type": "markdown",
   "metadata": {},
   "source": [
    "### Resolución distancia mínima ciudades"
   ]
  },
  {
   "cell_type": "code",
   "execution_count": 55,
   "metadata": {},
   "outputs": [
    {
     "name": "stdout",
     "output_type": "stream",
     "text": [
      "[[0, 1, 1], [1, 0, 2], [1, 2, 0]]\n"
     ]
    }
   ],
   "source": [
    "# Ak(i,j)= min{ Ak-1(i,j), Ak-1(i,k-1)+Ak-1(k-1,j)}\n",
    "\n",
    "for k in range(tamCiudades):\n",
    "    k += 1\n",
    "    for i in range(tamCiudades):\n",
    "        for j in range(tamCiudades):\n",
    "            matriz[i][j] = min(matriz[i][j], matriz[i][k - 1] + matriz[k - 1][j])\n",
    "print(matriz)"
   ]
  },
  {
   "cell_type": "markdown",
   "metadata": {},
   "source": [
    "## Ejercicio 3"
   ]
  },
  {
   "cell_type": "code",
   "execution_count": 1,
   "metadata": {},
   "outputs": [
    {
     "name": "stdout",
     "output_type": "stream",
     "text": [
      "[1, 2, 3, 4, 5, 6, 7, 8, 9]\n",
      "[1, 2, 3, 4, 5, 6, 7, 8, 9, 10, 11, 12, 13, 14, 15, 16]\n",
      "\n",
      "[[7, 8, 1], [6, 9, 2], [5, 4, 3]]\n",
      "[[10, 11, 12, 1], [9, 16, 13, 2], [8, 15, 14, 3], [7, 6, 5, 4]]\n",
      "\n",
      "[[3, 4, 5], [2, 9, 6], [1, 8, 7]]\n",
      "[[4, 5, 6, 7], [3, 14, 15, 8], [2, 13, 16, 9], [1, 12, 11, 10]]\n"
     ]
    }
   ],
   "source": [
    "def recorrido_espiral(matriz):\n",
    "    salida = []\n",
    "    filas = columnas = len(matriz)\n",
    "    i = 0\n",
    "    j = -1\n",
    "\n",
    "    while filas > 0:\n",
    "        ## ir hacia la derecha\n",
    "        for x in range(columnas):\n",
    "            j+=1\n",
    "            salida.append(matriz[i][j])\n",
    "        filas-=1\n",
    "\n",
    "        ## ir hacia abajo\n",
    "        for x in range(filas):\n",
    "            i+=1\n",
    "            salida.append(matriz[i][j])\n",
    "        columnas-=1\n",
    "\n",
    "        ## ir hacia la izquierda\n",
    "        for x in range(columnas):\n",
    "            j-=1\n",
    "            salida.append(matriz[i][j])\n",
    "        filas-=1\n",
    "\n",
    "        ## ir hacia arriba\n",
    "        for x in range(filas):\n",
    "            i-=1\n",
    "            salida.append(matriz[i][j])\n",
    "        columnas-=1\n",
    "\n",
    "    return salida\n",
    "\n",
    "\n",
    "def rotacion90horario(matriz):\n",
    "    matriz_rotada = []\n",
    "\n",
    "    for j in range(len(matriz)):\n",
    "        fila_rotada = []\n",
    "        for i in reversed(range(len(matriz))):\n",
    "            fila_rotada.append(matriz[i][j])\n",
    "        matriz_rotada.append(fila_rotada)\n",
    "\n",
    "    return matriz_rotada\n",
    "\n",
    "\n",
    "def rotacion90antihorario(matriz):\n",
    "    matriz_rotada = []\n",
    "\n",
    "    for j in reversed(range(len(matriz))):\n",
    "        fila_rotada = []\n",
    "        for i in (range(len(matriz))):\n",
    "            fila_rotada.append(matriz[i][j])\n",
    "        matriz_rotada.append(fila_rotada)\n",
    "\n",
    "    return matriz_rotada\n",
    "\n",
    "\n",
    "matriz3x3 = [[1,2,3],\n",
    "             [8,9,4],\n",
    "             [7,6,5]] ## siempre cuadrada\n",
    "\n",
    "matriz4x4 = [[1 ,2 ,3 ,4],\n",
    "             [12,13,14,5],\n",
    "             [11,16,15,6],\n",
    "             [10,9 ,8 ,7]] ## siempre cuadrada\n",
    "\n",
    "print(recorrido_espiral(matriz3x3))\n",
    "print(recorrido_espiral(matriz4x4))\n",
    "print()\n",
    "\n",
    "print(rotacion90horario(matriz3x3))\n",
    "print(rotacion90horario(matriz4x4))\n",
    "print()\n",
    "\n",
    "print(rotacion90antihorario(matriz3x3))\n",
    "print(rotacion90antihorario(matriz4x4))"
   ]
  }
 ],
 "metadata": {
  "anaconda-cloud": {},
  "kernelspec": {
   "display_name": "Python 3.10.7 64-bit",
   "language": "python",
   "name": "python3"
  },
  "language_info": {
   "codemirror_mode": {
    "name": "ipython",
    "version": 3
   },
   "file_extension": ".py",
   "mimetype": "text/x-python",
   "name": "python",
   "nbconvert_exporter": "python",
   "pygments_lexer": "ipython3",
   "version": "3.10.7"
  },
  "vscode": {
   "interpreter": {
    "hash": "8bc4b9324c9c39c3a24e7dcfda771a9f84d1f3c0c56151616037497002179884"
   }
  }
 },
 "nbformat": 4,
 "nbformat_minor": 1
}
