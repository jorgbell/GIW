{
 "cells": [
  {
   "cell_type": "markdown",
   "metadata": {},
   "source": [
    "### Práctica sobre APIs"
   ]
  },
  {
   "cell_type": "markdown",
   "metadata": {},
   "source": [
    "Se va a explotar la API REST VACCOVID - coronavirus, vaccine and treatment tracker que se encuentra en:\n",
    "\n",
    "https://rapidapi.com/vaccovidlive-vaccovidlive-default/api/vaccovid-coronavirus-vaccine-and-treatment-tracker/\n",
    "\n",
    "Lo primero que se debe hacer es registrarse en el siguiente enlace:\n",
    "https://rapidapi.com/auth/sign-up?referral=/hub\n",
    "\n",
    "Una vez registrado y autenticado en la API REST se puede volver al endpoint donde se podrán ver los diferentes grupos de funcionalidad tales como:\n",
    "\n",
    "* covid-19 APIs\n",
    "\n",
    "* Vaccine and Treatments APIs\n",
    "\n",
    "* News\n",
    "\n",
    "En cada grupo se encuentran definidos varios conjuntos de servicios. Cuando se selecciona un servicio aparece la forma de invocar dicho servicio. En particular hay una pestaña en la pantalla denominada \"Code Snippets\" donde se puede encontrar el código para hacer uso del servicio en diferentes lenguajes de programación. Para ello , se busca en el desplegable. En este caso, se busca Python, y entre las opciones que ofrece se selecciona la opción \"requests\". Como resultado, se muestra el código en Python. Por ejemplo, si se quiere recuperar las estadísticas de covid-19 de los últimos 6 meses de Estados Unidos, bastaría pulsar sobre covid-19 APIs y allí sobre el servicio \"get the covid-19 stats for the past six months of one country\".En el marco que hay al lado del menú, se configura la api, y se rellena el apartado \"Required Parameters\" introduciendo el valor de id igual a \"USA\". En la pestaña \"Code Snippets\" se busca el lenguaje Python, y se selecciona la versión \"requests\". Entonces aparece el siguiente código:"
   ]
  },
  {
   "cell_type": "code",
   "execution_count": 3,
   "metadata": {},
   "outputs": [
    {
     "name": "stdout",
     "output_type": "stream",
     "text": [
      "[{\"id\":\"8f137dac-ce6f-4e4d-9c37-ee78dcd9cec6\",\"symbol\":\"USA\",\"Country\":\"United States\",\"Continent\":\"North America\",\"date\":\"2022-08-20\",\"total_cases\":93634408,\"new_cases\":133463,\"total_deaths\":1041141,\"new_deaths\":786,\"total_tests\":0,\"new_tests\":0},{\"id\":\"2564af3a-4b6d-41cb-a431-253e13c5a583\",\"symbol\":\"USA\",\"Country\":\"United States\",\"Continent\":\"North America\",\"date\":\"2022-08-19\",\"total_cases\":93500945,\"new_cases\":97305,\"total_deaths\":1040355,\"new_deaths\":609,\"total_tests\":0,\"new_tests\":0},{\"id\":\"2ef00e59-a996-4729-a24e-bb8ee71ec144\",\"symbol\":\"USA\",\"Country\":\"United States\",\"Continent\":\"North America\",\"date\":\"2022-08-18\",\"total_cases\":93403640,\"new_cases\":125400,\"total_deaths\":1039746,\"new_deaths\":630,\"total_tests\":0,\"new_tests\":0},{\"id\":\"657ace60-5a17-4e95-a9d7-2301c2570063\",\"symbol\":\"USA\",\"Country\":\"United States\",\"Continent\":\"North America\",\"date\":\"2022-08-17\",\"total_cases\":93278240,\"new_cases\":138015,\"total_deaths\":1039116,\"new_deaths\":1093,\"total_tests\":0,\"new_tests\":0},{\"id\":\"55ef0323-4ed2-49df-9e35-c994fedf57cd\",\"symbol\":\"USA\",\"Country\":\"United States\",\"Continent\":\"North America\",\"date\":\"2022-08-16\",\"total_cases\":93140225,\"new_cases\":87450,\"total_deaths\":1038023,\"new_deaths\":469,\"total_tests\":0,\"new_tests\":0},{\"id\":\"90e3ffce-8f69-4a7b-b6a8-39ec83aa68b1\",\"symbol\":\"USA\",\"Country\":\"United States\",\"Continent\":\"North America\",\"date\":\"2022-08-15\",\"total_cases\":93052775,\"new_cases\":118176,\"total_deaths\":1037554,\"new_deaths\":433,\"total_tests\":0,\"new_tests\":0},{\"id\":\"1060c7e4-1f5d-43b5-bdee-5bca492c31c2\",\"symbol\":\"USA\",\"Country\":\"United States\",\"Continent\":\"North America\",\"date\":\"2022-08-14\",\"total_cases\":92934599,\"new_cases\":7423,\"total_deaths\":1037121,\"new_deaths\":4,\"total_tests\":0,\"new_tests\":0},{\"id\":\"ab303583-abc7-454c-96d5-d4a0fe0fdf26\",\"symbol\":\"USA\",\"Country\":\"United States\",\"Continent\":\"North America\",\"date\":\"2022-08-13\",\"total_cases\":92927176,\"new_cases\":82660,\"total_deaths\":1037117,\"new_deaths\":27,\"total_tests\":0,\"new_tests\":0},{\"id\":\"e3e91dc1-e39b-4617-a8a0-009f54567802\",\"symbol\":\"USA\",\"Country\":\"United States\",\"Continent\":\"North America\",\"date\":\"2022-08-12\",\"total_cases\":92844516,\"new_cases\":96155,\"total_deaths\":1037090,\"new_deaths\":646,\"total_tests\":0,\"new_tests\":0},{\"id\":\"8f72d026-2021-49f4-b4f5-2a09fcebf38d\",\"symbol\":\"USA\",\"Country\":\"United States\",\"Continent\":\"North America\",\"date\":\"2022-08-11\",\"total_cases\":92748361,\"new_cases\":162520,\"total_deaths\":1036444,\"new_deaths\":555,\"total_tests\":0,\"new_tests\":0},{\"id\":\"09b3bc10-f616-49ce-a198-b4239656c950\",\"symbol\":\"USA\",\"Country\":\"United States\",\"Continent\":\"North America\",\"date\":\"2022-08-10\",\"total_cases\":92585841,\"new_cases\":195755,\"total_deaths\":1035889,\"new_deaths\":940,\"total_tests\":0,\"new_tests\":0},{\"id\":\"79eefe56-597d-4e35-ad84-606b7b1e073f\",\"symbol\":\"USA\",\"Country\":\"United States\",\"Continent\":\"North America\",\"date\":\"2022-08-09\",\"total_cases\":92390086,\"new_cases\":98742,\"total_deaths\":1034949,\"new_deaths\":639,\"total_tests\":0,\"new_tests\":0},{\"id\":\"75915deb-7a63-4e4d-9a84-dade6d3e5c1e\",\"symbol\":\"USA\",\"Country\":\"United States\",\"Continent\":\"North America\",\"date\":\"2022-08-08\",\"total_cases\":92291344,\"new_cases\":153162,\"total_deaths\":1034310,\"new_deaths\":465,\"total_tests\":0,\"new_tests\":0},{\"id\":\"3d6c8e6e-6f7d-45b6-81fd-91a549cf2c0d\",\"symbol\":\"USA\",\"Country\":\"United States\",\"Continent\":\"North America\",\"date\":\"2022-08-07\",\"total_cases\":92138182,\"new_cases\":11561,\"total_deaths\":1033845,\"new_deaths\":20,\"total_tests\":0,\"new_tests\":0},{\"id\":\"65574667-83da-40fa-a21a-0de07e6364a6\",\"symbol\":\"USA\",\"Country\":\"United States\",\"Continent\":\"North America\",\"date\":\"2022-08-06\",\"total_cases\":92126621,\"new_cases\":13972,\"total_deaths\":1033825,\"new_deaths\":38,\"total_tests\":0,\"new_tests\":0},{\"id\":\"0a08c23e-1f32-4b85-b8af-5129df917658\",\"symbol\":\"USA\",\"Country\":\"United States\",\"Continent\":\"North America\",\"date\":\"2022-08-05\",\"total_cases\":92112649,\"new_cases\":106845,\"total_deaths\":1033787,\"new_deaths\":709,\"total_tests\":0,\"new_tests\":0},{\"id\":\"cc60035b-3657-4b70-894d-0c11b22c191f\",\"symbol\":\"USA\",\"Country\":\"United States\",\"Continent\":\"North America\",\"date\":\"2022-08-04\",\"total_cases\":92005804,\"new_cases\":187741,\"total_deaths\":1033078,\"new_deaths\":622,\"total_tests\":0,\"new_tests\":0},{\"id\":\"53e39e2a-9716-4286-9601-8dc30f6cee6f\",\"symbol\":\"USA\",\"Country\":\"United States\",\"Continent\":\"North America\",\"date\":\"2022-08-03\",\"total_cases\":91818063,\"new_cases\":200572,\"total_deaths\":1032456,\"new_deaths\":1098,\"total_tests\":0,\"new_tests\":0},{\"id\":\"7c40d20d-d80e-45fd-b0e5-70de1a121425\",\"symbol\":\"USA\",\"Country\":\"United States\",\"Continent\":\"North America\",\"date\":\"2022-08-02\",\"total_cases\":91617491,\"new_cases\":91070,\"total_deaths\":1031358,\"new_deaths\":515,\"total_tests\":0,\"new_tests\":0},{\"id\":\"6e3f52e5-01cd-40c1-a44c-7919d56f66e7\",\"symbol\":\"USA\",\"Country\":\"United States\",\"Continent\":\"North America\",\"date\":\"2022-08-01\",\"total_cases\":91526421,\"new_cases\":171741,\"total_deaths\":1030843,\"new_deaths\":571,\"total_tests\":0,\"new_tests\":0},{\"id\":\"210722ee-c5c5-4008-9494-624534541075\",\"symbol\":\"USA\",\"Country\":\"United States\",\"Continent\":\"North America\",\"date\":\"2022-07-31\",\"total_cases\":91354680,\"new_cases\":12127,\"total_deaths\":1030272,\"new_deaths\":11,\"total_tests\":0,\"new_tests\":0},{\"id\":\"161f6c8c-2516-4fb6-92f2-717a9011af11\",\"symbol\":\"USA\",\"Country\":\"United States\",\"Continent\":\"North America\",\"date\":\"2022-07-30\",\"total_cases\":91342553,\"new_cases\":15039,\"total_deaths\":1030261,\"new_deaths\":26,\"total_tests\":0,\"new_tests\":0},{\"id\":\"f7c0f82f-352d-492f-a753-0e292990e62d\",\"symbol\":\"USA\",\"Country\":\"United States\",\"Continent\":\"North America\",\"date\":\"2022-07-29\",\"total_cases\":91327514,\"new_cases\":160212,\"total_deaths\":1030235,\"new_deaths\":635,\"total_tests\":0,\"new_tests\":0},{\"id\":\"91cf9e81-1d6f-4366-9822-eff95b3c0402\",\"symbol\":\"USA\",\"Country\":\"United States\",\"Continent\":\"North America\",\"date\":\"2022-07-28\",\"total_cases\":91167302,\"new_cases\":177330,\"total_deaths\":1029600,\"new_deaths\":404,\"total_tests\":0,\"new_tests\":0},{\"id\":\"f3c5ae46-5206-49dd-845c-5719f302c526\",\"symbol\":\"USA\",\"Country\":\"United States\",\"Continent\":\"North America\",\"date\":\"2022-07-27\",\"total_cases\":90989972,\"new_cases\":239973,\"total_deaths\":1029196,\"new_deaths\":952,\"total_tests\":0,\"new_tests\":0},{\"id\":\"cebb1278-4d5a-4f2a-a1d3-1b7195383539\",\"symbol\":\"USA\",\"Country\":\"United States\",\"Continent\":\"North America\",\"date\":\"2022-07-26\",\"total_cases\":90749999,\"new_cases\":133068,\"total_deaths\":1028244,\"new_deaths\":549,\"total_tests\":0,\"new_tests\":0},{\"id\":\"d2caeda9-56fc-4520-ba6b-cef4eb209a11\",\"symbol\":\"USA\",\"Country\":\"United States\",\"Continent\":\"North America\",\"date\":\"2022-07-25\",\"total_cases\":90616931,\"new_cases\":190428,\"total_deaths\":1027695,\"new_deaths\":427,\"total_tests\":0,\"new_tests\":0},{\"id\":\"50c395ba-e994-4ed1-8203-bcf17a3cd79e\",\"symbol\":\"USA\",\"Country\":\"United States\",\"Continent\":\"North America\",\"date\":\"2022-07-24\",\"total_cases\":90426503,\"new_cases\":22181,\"total_deaths\":1027268,\"new_deaths\":24,\"total_tests\":0,\"new_tests\":0},{\"id\":\"b5dddef4-ab8d-4d16-a93f-36b217aaeacf\",\"symbol\":\"USA\",\"Country\":\"United States\",\"Continent\":\"North America\",\"date\":\"2022-07-23\",\"total_cases\":90404322,\"new_cases\":25255,\"total_deaths\":1027244,\"new_deaths\":66,\"total_tests\":0,\"new_tests\":0}]\n"
     ]
    }
   ],
   "source": [
    "import requests\n",
    "\n",
    "url = \"https://vaccovid-coronavirus-vaccine-and-treatment-tracker.p.rapidapi.com/api/covid-ovid-data/sixmonth/USA\"\n",
    "\n",
    "headers = {\n",
    "\t\"X-RapidAPI-Key\": \"4d136bbbafmshcef7c38206f927dp13110djsnb1ce888ae541\",\n",
    "\t\"X-RapidAPI-Host\": \"vaccovid-coronavirus-vaccine-and-treatment-tracker.p.rapidapi.com\"\n",
    "}\n",
    "\n",
    "response = requests.request(\"GET\", url, headers=headers)\n",
    "\n",
    "print(response.text)"
   ]
  },
  {
   "cell_type": "markdown",
   "metadata": {},
   "source": [
    "Al ejecutarse nos devuelve una cadena que representa un cadena json.\n",
    "\n",
    "Observar que en la invocación de la API aparece una clave de acceso \"x-rapidapi-key\". Esta clave es exclusiva de cada usuario. Por cada grupo, basta que un de los componentes se registre en la aplicación. No hace falta que os registréis todos.\n",
    "\n",
    "Se pide crear una aplicación que explote la información de la API. Para ello se creará un conjunto de consultas en forma de menú:\n",
    " \n",
    " * __Opción 1__: Recuperar las estadísticas sobre casos de covid-19 de los últimos 6 meses de todos los paises. Para mostrar de forma amigable la información, se mostrará un primer menú en la que solo aparecerán los nombres de los continentes (campo \"Continent\"). Cuando el usuario elija un continente, le aparecerá un nuevo menú con los paises (campo \"Country\") de ese continente. A continuación, elegido un pais, se mostrará la siguiente información del pais: total_cases, new_cases, total_deaths,new_deaths,total_tests, new_tests. Por ejemplo si se elige \"Europe\"--> \"Romania\", se mostraría como resultado:\n",
    "\n",
    "  'total_cases': 1090925,\n",
    "  \n",
    "  'new_cases': 517,\n",
    "  \n",
    "  'total_deaths': 34412,\n",
    "  \n",
    "  'new_deaths': 9,\n",
    "  \n",
    "  'total_tests': 11190628\n",
    "  \n",
    "   A continuación se le preguntará si quiere volver a realizar una búsqueda, y en tal caso se vuelve al menú de la opción 1. En caso contrario finaliza la opción 1, y se vuelve al menú principal.\n",
    "\n",
    "   Observar que tendréis que usar el servicio:\n",
    "\n",
    "   __get the covid-19 stats for the past six months of all countries__\n",
    "   \n",
    " \n",
    " * __Opción 2__: Recuperar toda la información de los tratamientos y vacunas. Para mostrar de forma amigable la información, se mostrará un primer menú en la que solo aparecerán dos opciones: \"Vaccine\" o \"Treatment\". Elegida una opción, se mostrará un menú que mostrará los nombres de todas las categorias de vacunas o tratamientos (campo trimedCategory) dependiendo lo que se haya elegido anteriormente. Elegida una categoría, se mostrara un nuevo menú con todos los nombres de los laboratorios de esa categoria(campo developerResearcher). Por último, elegido un laboratorio,se mostrará toda la información acerca de la misma. Por ejemplo, si se elige Vaccine-->antibodies-->CSL Behring / SAb Biotherapeutics, se mostrará:\n",
    " \n",
    "  'developerResearcher': 'CSL Behring / SAb Biotherapeutics',\n",
    "  \n",
    "  'trimedName': 'csl-behring-sab-biotherapeutics',\n",
    "  \n",
    "  'phase': 'Phase III',\n",
    "  \n",
    "  'nextSteps': 'Phase I starts early summer 2020; Dosing… [+114]',\n",
    "  \n",
    "  'description': 'SAB-185, Polyclonal hyperimmune globulin… [+7]',\n",
    "  \n",
    "  'funder': 'Biomedical Advanced Research and Develop… [+48]',\n",
    "\n",
    "   A continuación se le preguntará si quiere volver a realizar una búsqueda, y en tal caso se vuelve al menú de la opción 2. En caso contrario finaliza la opción 2, y se vuelve al menú principal.\n",
    "\n",
    "   Observar que tendréis que usar los servicios:\n",
    "\n",
    "   __get all trimed names, categories and kinds__\n",
    "    \n",
    "   __get all treatments for specific category__\n",
    "\n",
    "   __get all vaccines for specific category__\n",
    "   \n",
    " \n",
    " * __Opción 3__: Recuperar todas las noticias sobre covid19. Se le mostrará al usuario un menú con las diferentes fuentes de información (campo reference). Elegida una fuente de información, se le mostrara un menú con un listado de los títulos (campo title) de las noticias de esa fuente. Elegido un título de una noticia, se mostrará el campo contenido (content) asociado a la noticia. A continuación, se le preguntará si se desea ver la página de la noticia. Si selecciona que \"sí\" entonces se lanzará un navegador con la página web (link) asociada a la noticia. Por ejemplo si se elige:\n",
    " \n",
    " google-news-au-->'A thousand days of COVID-19: How the pandemic unfolded in Australia'\n",
    " \n",
    " Entonces se mostrará:\n",
    "\n",
    "  On January 20, 2020, the smoke was still clearing from the intense bushfires that had ravaged the country. The east coast had been battered by intense hailstorms and flash flooding. And an obscure… [+49 chars]\n",
    "\n",
    "  Y si se elige visulizar la noticia se lanzará la página: \n",
    "\n",
    "  \"https://www.9news.com.au/national/1000-days-of-covid19-in-australia-timeline-how-coronavirus-spread-lockdown-australian-covid-news/11aabbd5-e0d5-4f54-852f-88fc59934045\"\n",
    "  \n",
    "  A continuación se le preguntará si quiere volver a realizar una búsqueda, y en tal caso se vuelve al menú de la opción 3. En caso contrario finaliza la opción 3, y se vuelve al menú principal.\n",
    "  \n",
    "  Observar que tendréis que usar el servicio:\n",
    "\n",
    "   __get all coronavirus news__\n",
    " \n",
    " * __Opción 4__: Recuperacion de información específica de vacunas. Para ello se le mostrará un menú con los nombres de todas las vacunas (trimedName). Elegida una vacuna, entonces se deberá mostrar toda la información acerca de esa vacuna. Para ello además del nombre, se necesita la categoría de la vacuna y consultar el servicio \"get specific vaccine data\". Por ejemplo si se elige \"biontech-pfizer-fosun-pharma-rentschler-biopharma\". Esta vacuna tiene asociada como categoria \"rna-based-vaccine\". Así la información que se mostraría sería:\n",
    " \n",
    " 'vaccine_id': '5d657d09-ca80-4b34-b8ab-79ef4fe09c7f',\n",
    " \n",
    " 'developerResearcher': 'OSE  Immunotherapeutics/ Cenexi',\n",
    " \n",
    " 'trimedName': 'ose-immunotherapeutics-cenexi',\n",
    " \n",
    " 'treatmentVsVaccine': 'Vaccine',\n",
    " \n",
    " 'category': 'Protein subunit',\n",
    " \n",
    " 'trimedCategory': 'protein-subunit',\n",
    " \n",
    " 'phase': 'Phase I',\n",
    " \n",
    " 'nextSteps': 'First positive results announced 11/30/21; Phase I began May 2021; Pre-clinical results  released in August 2020. Positive results released December 2021.',\n",
    " \n",
    " 'description': 'T cell-based vaccine platform (CoVepiT)',\n",
    " \n",
    " 'clinicalTrialsForCovid19': 'NCT04885361',\n",
    " \n",
    " 'funder': 'undefined',\n",
    " \n",
    " 'publishedResults': ['https://www.ose-immuno.com/wp-content/uploads/2021/11/EN_211130_CoVepiT-Update.pdf',\n",
    "  'https://www.ose-immuno.com/wp-content/uploads/2021/11/EN_211130_CoVepiT-Update.pdf'],\n",
    "  \n",
    " 'clinicalTrialsForOtherDiseases': 'undefined',\n",
    " \n",
    " 'FDAApproved': 'undefined',\n",
    " \n",
    " 'lastUpdated': '2021-12-09T00:00:00.000Z'\n",
    " \n",
    "  A continuación se le preguntará si quiere volver a realizar una búsqueda, y en tal caso se vuelve al menú de la opción 4. En caso contrario finaliza la opción 4, y se vuelve al menú principal.\n",
    "  \n",
    "     Observar que tendréis que usar los servicios:\n",
    "\n",
    "   __get all vaccines__\n",
    "    \n",
    "   __get specific vaccine data__\n",
    "\n",
    " * __Opción 5__: Salir."
   ]
  },
  {
   "cell_type": "markdown",
   "metadata": {},
   "source": [
    "## Normas de entrega\n",
    "\n",
    "* Fecha tope de entrega: 27/10/2021\n",
    "* La entrega se realizará subiendo al campus virtual un notebook de Jupyter con la solución. El archivo tendrá como nombre DesarrolloWeb_GrupoX donde X será el número de grupo correspondiente."
   ]
  },
  {
   "cell_type": "code",
   "execution_count": 7,
   "metadata": {
    "scrolled": true
   },
   "outputs": [
    {
     "name": "stdout",
     "output_type": "stream",
     "text": [
      "[{\"id\":\"8f137dac-ce6f-4e4d-9c37-ee78dcd9cec6\",\"symbol\":\"USA\",\"Country\":\"United States\",\"Continent\":\"North America\",\"date\":\"2022-08-20\",\"total_cases\":93634408,\"new_cases\":133463,\"total_deaths\":1041141,\"new_deaths\":786,\"total_tests\":0,\"new_tests\":0},{\"id\":\"2564af3a-4b6d-41cb-a431-253e13c5a583\",\"symbol\":\"USA\",\"Country\":\"United States\",\"Continent\":\"North America\",\"date\":\"2022-08-19\",\"total_cases\":93500945,\"new_cases\":97305,\"total_deaths\":1040355,\"new_deaths\":609,\"total_tests\":0,\"new_tests\":0},{\"id\":\"2ef00e59-a996-4729-a24e-bb8ee71ec144\",\"symbol\":\"USA\",\"Country\":\"United States\",\"Continent\":\"North America\",\"date\":\"2022-08-18\",\"total_cases\":93403640,\"new_cases\":125400,\"total_deaths\":1039746,\"new_deaths\":630,\"total_tests\":0,\"new_tests\":0},{\"id\":\"657ace60-5a17-4e95-a9d7-2301c2570063\",\"symbol\":\"USA\",\"Country\":\"United States\",\"Continent\":\"North America\",\"date\":\"2022-08-17\",\"total_cases\":93278240,\"new_cases\":138015,\"total_deaths\":1039116,\"new_deaths\":1093,\"total_tests\":0,\"new_tests\":0},{\"id\":\"55ef0323-4ed2-49df-9e35-c994fedf57cd\",\"symbol\":\"USA\",\"Country\":\"United States\",\"Continent\":\"North America\",\"date\":\"2022-08-16\",\"total_cases\":93140225,\"new_cases\":87450,\"total_deaths\":1038023,\"new_deaths\":469,\"total_tests\":0,\"new_tests\":0},{\"id\":\"90e3ffce-8f69-4a7b-b6a8-39ec83aa68b1\",\"symbol\":\"USA\",\"Country\":\"United States\",\"Continent\":\"North America\",\"date\":\"2022-08-15\",\"total_cases\":93052775,\"new_cases\":118176,\"total_deaths\":1037554,\"new_deaths\":433,\"total_tests\":0,\"new_tests\":0},{\"id\":\"1060c7e4-1f5d-43b5-bdee-5bca492c31c2\",\"symbol\":\"USA\",\"Country\":\"United States\",\"Continent\":\"North America\",\"date\":\"2022-08-14\",\"total_cases\":92934599,\"new_cases\":7423,\"total_deaths\":1037121,\"new_deaths\":4,\"total_tests\":0,\"new_tests\":0},{\"id\":\"ab303583-abc7-454c-96d5-d4a0fe0fdf26\",\"symbol\":\"USA\",\"Country\":\"United States\",\"Continent\":\"North America\",\"date\":\"2022-08-13\",\"total_cases\":92927176,\"new_cases\":82660,\"total_deaths\":1037117,\"new_deaths\":27,\"total_tests\":0,\"new_tests\":0},{\"id\":\"e3e91dc1-e39b-4617-a8a0-009f54567802\",\"symbol\":\"USA\",\"Country\":\"United States\",\"Continent\":\"North America\",\"date\":\"2022-08-12\",\"total_cases\":92844516,\"new_cases\":96155,\"total_deaths\":1037090,\"new_deaths\":646,\"total_tests\":0,\"new_tests\":0},{\"id\":\"8f72d026-2021-49f4-b4f5-2a09fcebf38d\",\"symbol\":\"USA\",\"Country\":\"United States\",\"Continent\":\"North America\",\"date\":\"2022-08-11\",\"total_cases\":92748361,\"new_cases\":162520,\"total_deaths\":1036444,\"new_deaths\":555,\"total_tests\":0,\"new_tests\":0},{\"id\":\"09b3bc10-f616-49ce-a198-b4239656c950\",\"symbol\":\"USA\",\"Country\":\"United States\",\"Continent\":\"North America\",\"date\":\"2022-08-10\",\"total_cases\":92585841,\"new_cases\":195755,\"total_deaths\":1035889,\"new_deaths\":940,\"total_tests\":0,\"new_tests\":0},{\"id\":\"79eefe56-597d-4e35-ad84-606b7b1e073f\",\"symbol\":\"USA\",\"Country\":\"United States\",\"Continent\":\"North America\",\"date\":\"2022-08-09\",\"total_cases\":92390086,\"new_cases\":98742,\"total_deaths\":1034949,\"new_deaths\":639,\"total_tests\":0,\"new_tests\":0},{\"id\":\"75915deb-7a63-4e4d-9a84-dade6d3e5c1e\",\"symbol\":\"USA\",\"Country\":\"United States\",\"Continent\":\"North America\",\"date\":\"2022-08-08\",\"total_cases\":92291344,\"new_cases\":153162,\"total_deaths\":1034310,\"new_deaths\":465,\"total_tests\":0,\"new_tests\":0},{\"id\":\"3d6c8e6e-6f7d-45b6-81fd-91a549cf2c0d\",\"symbol\":\"USA\",\"Country\":\"United States\",\"Continent\":\"North America\",\"date\":\"2022-08-07\",\"total_cases\":92138182,\"new_cases\":11561,\"total_deaths\":1033845,\"new_deaths\":20,\"total_tests\":0,\"new_tests\":0},{\"id\":\"65574667-83da-40fa-a21a-0de07e6364a6\",\"symbol\":\"USA\",\"Country\":\"United States\",\"Continent\":\"North America\",\"date\":\"2022-08-06\",\"total_cases\":92126621,\"new_cases\":13972,\"total_deaths\":1033825,\"new_deaths\":38,\"total_tests\":0,\"new_tests\":0},{\"id\":\"0a08c23e-1f32-4b85-b8af-5129df917658\",\"symbol\":\"USA\",\"Country\":\"United States\",\"Continent\":\"North America\",\"date\":\"2022-08-05\",\"total_cases\":92112649,\"new_cases\":106845,\"total_deaths\":1033787,\"new_deaths\":709,\"total_tests\":0,\"new_tests\":0},{\"id\":\"cc60035b-3657-4b70-894d-0c11b22c191f\",\"symbol\":\"USA\",\"Country\":\"United States\",\"Continent\":\"North America\",\"date\":\"2022-08-04\",\"total_cases\":92005804,\"new_cases\":187741,\"total_deaths\":1033078,\"new_deaths\":622,\"total_tests\":0,\"new_tests\":0},{\"id\":\"53e39e2a-9716-4286-9601-8dc30f6cee6f\",\"symbol\":\"USA\",\"Country\":\"United States\",\"Continent\":\"North America\",\"date\":\"2022-08-03\",\"total_cases\":91818063,\"new_cases\":200572,\"total_deaths\":1032456,\"new_deaths\":1098,\"total_tests\":0,\"new_tests\":0},{\"id\":\"7c40d20d-d80e-45fd-b0e5-70de1a121425\",\"symbol\":\"USA\",\"Country\":\"United States\",\"Continent\":\"North America\",\"date\":\"2022-08-02\",\"total_cases\":91617491,\"new_cases\":91070,\"total_deaths\":1031358,\"new_deaths\":515,\"total_tests\":0,\"new_tests\":0},{\"id\":\"6e3f52e5-01cd-40c1-a44c-7919d56f66e7\",\"symbol\":\"USA\",\"Country\":\"United States\",\"Continent\":\"North America\",\"date\":\"2022-08-01\",\"total_cases\":91526421,\"new_cases\":171741,\"total_deaths\":1030843,\"new_deaths\":571,\"total_tests\":0,\"new_tests\":0},{\"id\":\"210722ee-c5c5-4008-9494-624534541075\",\"symbol\":\"USA\",\"Country\":\"United States\",\"Continent\":\"North America\",\"date\":\"2022-07-31\",\"total_cases\":91354680,\"new_cases\":12127,\"total_deaths\":1030272,\"new_deaths\":11,\"total_tests\":0,\"new_tests\":0},{\"id\":\"161f6c8c-2516-4fb6-92f2-717a9011af11\",\"symbol\":\"USA\",\"Country\":\"United States\",\"Continent\":\"North America\",\"date\":\"2022-07-30\",\"total_cases\":91342553,\"new_cases\":15039,\"total_deaths\":1030261,\"new_deaths\":26,\"total_tests\":0,\"new_tests\":0},{\"id\":\"f7c0f82f-352d-492f-a753-0e292990e62d\",\"symbol\":\"USA\",\"Country\":\"United States\",\"Continent\":\"North America\",\"date\":\"2022-07-29\",\"total_cases\":91327514,\"new_cases\":160212,\"total_deaths\":1030235,\"new_deaths\":635,\"total_tests\":0,\"new_tests\":0},{\"id\":\"91cf9e81-1d6f-4366-9822-eff95b3c0402\",\"symbol\":\"USA\",\"Country\":\"United States\",\"Continent\":\"North America\",\"date\":\"2022-07-28\",\"total_cases\":91167302,\"new_cases\":177330,\"total_deaths\":1029600,\"new_deaths\":404,\"total_tests\":0,\"new_tests\":0},{\"id\":\"f3c5ae46-5206-49dd-845c-5719f302c526\",\"symbol\":\"USA\",\"Country\":\"United States\",\"Continent\":\"North America\",\"date\":\"2022-07-27\",\"total_cases\":90989972,\"new_cases\":239973,\"total_deaths\":1029196,\"new_deaths\":952,\"total_tests\":0,\"new_tests\":0},{\"id\":\"cebb1278-4d5a-4f2a-a1d3-1b7195383539\",\"symbol\":\"USA\",\"Country\":\"United States\",\"Continent\":\"North America\",\"date\":\"2022-07-26\",\"total_cases\":90749999,\"new_cases\":133068,\"total_deaths\":1028244,\"new_deaths\":549,\"total_tests\":0,\"new_tests\":0},{\"id\":\"d2caeda9-56fc-4520-ba6b-cef4eb209a11\",\"symbol\":\"USA\",\"Country\":\"United States\",\"Continent\":\"North America\",\"date\":\"2022-07-25\",\"total_cases\":90616931,\"new_cases\":190428,\"total_deaths\":1027695,\"new_deaths\":427,\"total_tests\":0,\"new_tests\":0},{\"id\":\"50c395ba-e994-4ed1-8203-bcf17a3cd79e\",\"symbol\":\"USA\",\"Country\":\"United States\",\"Continent\":\"North America\",\"date\":\"2022-07-24\",\"total_cases\":90426503,\"new_cases\":22181,\"total_deaths\":1027268,\"new_deaths\":24,\"total_tests\":0,\"new_tests\":0},{\"id\":\"b5dddef4-ab8d-4d16-a93f-36b217aaeacf\",\"symbol\":\"USA\",\"Country\":\"United States\",\"Continent\":\"North America\",\"date\":\"2022-07-23\",\"total_cases\":90404322,\"new_cases\":25255,\"total_deaths\":1027244,\"new_deaths\":66,\"total_tests\":0,\"new_tests\":0}]\n"
     ]
    }
   ],
   "source": [
    "import requests\n",
    "\n",
    "url = \"https://vaccovid-coronavirus-vaccine-and-treatment-tracker.p.rapidapi.com/api/covid-ovid-data/sixmonth/USA\"\n",
    "\n",
    "headers = {\n",
    "\t\"X-RapidAPI-Key\": \"1797033e79msh9ef00786d6b0d3dp1aed70jsnebc185f18a8a\",\n",
    "\t\"X-RapidAPI-Host\": \"vaccovid-coronavirus-vaccine-and-treatment-tracker.p.rapidapi.com\"\n",
    "}\n",
    "\n",
    "response = requests.request(\"GET\", url, headers=headers)\n",
    "\n",
    "print(response.text)"
   ]
  },
  {
   "cell_type": "markdown",
   "metadata": {},
   "source": [
    "\n",
    " * __Opción 1__: Recuperar las estadísticas sobre casos de covid-19 de los últimos 6 meses de todos los paises. Para mostrar de forma amigable la información, se mostrará un primer menú en la que solo aparecerán los nombres de los continentes (campo \"Continent\"). Cuando el usuario elija un continente, le aparecerá un nuevo menú con los paises (campo \"Country\") de ese continente. A continuación, elegido un pais, se mostrará la siguiente información del pais: total_cases, new_cases, total_deaths,new_deaths,total_tests, new_tests. Por ejemplo si se elige \"Europe\"--> \"Romania\", se mostraría como resultado:\n",
    "\n",
    "  'total_cases': 1090925,\n",
    "  \n",
    "  'new_cases': 517,\n",
    "  \n",
    "  'total_deaths': 34412,\n",
    "  \n",
    "  'new_deaths': 9,\n",
    "  \n",
    "  'total_tests': 11190628\n",
    "  \n",
    "   A continuación se le preguntará si quiere volver a realizar una búsqueda, y en tal caso se vuelve al menú de la opción 1. En caso contrario finaliza la opción 1, y se vuelve al menú principal.\n",
    "\n",
    "   Observar que tendréis que usar el servicio:\n",
    "\n",
    "   __get the covid-19 stats for the past six months of all countries__\n",
    "   \n",
    " \n"
   ]
  },
  {
   "cell_type": "code",
   "execution_count": null,
   "metadata": {},
   "outputs": [],
   "source": [
    "import json\n"
   ]
  }
 ],
 "metadata": {
  "kernelspec": {
   "display_name": "Python 3 (ipykernel)",
   "language": "python",
   "name": "python3"
  },
  "language_info": {
   "codemirror_mode": {
    "name": "ipython",
    "version": 3
   },
   "file_extension": ".py",
   "mimetype": "text/x-python",
   "name": "python",
   "nbconvert_exporter": "python",
   "pygments_lexer": "ipython3",
   "version": "3.9.12"
  }
 },
 "nbformat": 4,
 "nbformat_minor": 2
}
